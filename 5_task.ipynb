{
 "cells": [
  {
   "cell_type": "markdown",
   "id": "85755de8",
   "metadata": {},
   "source": [
    "# Самостоятельное задание #5\n",
    "\n",
    "\n",
    "### Задание 1\n",
    "\n",
    "Допишите функцию, которая принимает список, выбирает из него все элементы с четным индексом и возвращает их в виде списка."
   ]
  },
  {
   "cell_type": "code",
   "execution_count": 4,
   "id": "6ef6d9b3",
   "metadata": {},
   "outputs": [],
   "source": [
    "# Начните писать код тут\n",
    "#start = list(\"lambda\")\n",
    "def listofeven(some_list):\n",
    "    new_list = list()\n",
    "    for i in range(0, len(some_list), 2):\n",
    "        new_list.append(some_list[i])\n",
    "    return new_list\n",
    "\n",
    "#print(listofeven(start))"
   ]
  },
  {
   "cell_type": "markdown",
   "id": "443974c9",
   "metadata": {},
   "source": [
    "### Задание 2\n",
    "\n",
    "Допишите функцию, которая принимает список, выбирает из него все элементы, которые больше предыдущего и возвращает их в виде списка.\n"
   ]
  },
  {
   "cell_type": "code",
   "execution_count": 7,
   "id": "3a8cf925",
   "metadata": {},
   "outputs": [],
   "source": [
    "# Начните писать код тут\n",
    "#start = list(\"lambdast\")\n",
    "def listofhighers(some_list):\n",
    "    new_list = list()\n",
    "    for i in range(1, len(some_list)):\n",
    "        if some_list[i] > some_list[i-1]:\n",
    "            new_list.append(some_list[i])\n",
    "    return new_list\n",
    "\n",
    "#print(listofhighers(start))"
   ]
  },
  {
   "cell_type": "markdown",
   "id": "34524ede",
   "metadata": {},
   "source": [
    "### Задание 3\n",
    "\n",
    "Допишите функцию, которая принимает список, меняет местами наибольший и наименьший элементы и возвращает этот список."
   ]
  },
  {
   "cell_type": "code",
   "execution_count": 11,
   "id": "34d2beae",
   "metadata": {},
   "outputs": [],
   "source": [
    "# Начните писать код тут\n",
    "#start = list(\"lambdast\")\n",
    "def changefirstlast(some_list):\n",
    "    index_m, index_M = 0, 0\n",
    "    for i in range(1, len(some_list)):\n",
    "        if some_list[i] > some_list[index_M]:\n",
    "            index_M = i\n",
    "        if some_list[i] < some_list[index_m]:\n",
    "            index_m = i\n",
    "    t = some_list[index_M]\n",
    "    some_list[index_M] = some_list[index_m]\n",
    "    some_list[index_m] = t\n",
    "    return some_list\n",
    "\n",
    "#print(changefirstlast(start))"
   ]
  }
 ],
 "metadata": {
  "kernelspec": {
   "display_name": "Python 3 (ipykernel)",
   "language": "python",
   "name": "python3"
  },
  "language_info": {
   "codemirror_mode": {
    "name": "ipython",
    "version": 3
   },
   "file_extension": ".py",
   "mimetype": "text/x-python",
   "name": "python",
   "nbconvert_exporter": "python",
   "pygments_lexer": "ipython3",
   "version": "3.9.7"
  }
 },
 "nbformat": 4,
 "nbformat_minor": 5
}
