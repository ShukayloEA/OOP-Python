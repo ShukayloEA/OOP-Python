{
 "cells": [
  {
   "cell_type": "markdown",
   "id": "d89e88d8",
   "metadata": {},
   "source": [
    "# Самостоятельное задание #7\n",
    "\n",
    "\n",
    "### Задание 1\n",
    "\n",
    "Допишите функцию, которая принимает список чисел и, с помощью множеств, определяет количество различных чисел внутри списка."
   ]
  },
  {
   "cell_type": "code",
   "execution_count": 7,
   "id": "1b443f02",
   "metadata": {},
   "outputs": [
    {
     "name": "stdout",
     "output_type": "stream",
     "text": [
      "9\n"
     ]
    }
   ],
   "source": [
    "# Начните писать код тут\n",
    "#l = [1,1,2,3,4,5,5,5,5,6,7,8,9,9]\n",
    "def countdiffer(list_of_numbers):\n",
    "    s = set(list_of_numbers)\n",
    "    return len(s)\n",
    "#print(countdiffer(l))"
   ]
  },
  {
   "cell_type": "markdown",
   "id": "89118666",
   "metadata": {},
   "source": [
    "### Задание 2\n",
    "\n",
    "Допишите функцию, которая принимает несколько списков чисел и, с помощью множеств, определяет количество общих чисел из первого и второго списка."
   ]
  },
  {
   "cell_type": "code",
   "execution_count": 10,
   "id": "9ad5e3fd",
   "metadata": {},
   "outputs": [],
   "source": [
    "# Начните писать код тут\n",
    "#l1 = [i ** 2 for i in range(10)]\n",
    "#l2 = [i for i in range(10)]\n",
    "def countcommon(list_of_numbers1, list_of_numbers2):\n",
    "    s1 = set(list_of_numbers1)\n",
    "    s2 = set(list_of_numbers2)\n",
    "    return len(s1 & s2)\n",
    "#print(countcommon(l1, l2))"
   ]
  }
 ],
 "metadata": {
  "kernelspec": {
   "display_name": "Python 3 (ipykernel)",
   "language": "python",
   "name": "python3"
  },
  "language_info": {
   "codemirror_mode": {
    "name": "ipython",
    "version": 3
   },
   "file_extension": ".py",
   "mimetype": "text/x-python",
   "name": "python",
   "nbconvert_exporter": "python",
   "pygments_lexer": "ipython3",
   "version": "3.9.7"
  }
 },
 "nbformat": 4,
 "nbformat_minor": 5
}
