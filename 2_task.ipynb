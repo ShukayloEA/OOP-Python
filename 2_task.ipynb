{
 "cells": [
  {
   "cell_type": "markdown",
   "id": "246424fe",
   "metadata": {},
   "source": [
    "# Самостоятельная работа #2\n",
    "### Задание 1\n",
    "\n",
    "Допишите функцию, которая принимает 2 числа, сравнивает между собой и возвращает наименьшее."
   ]
  },
  {
   "cell_type": "code",
   "execution_count": 7,
   "id": "1b225d18",
   "metadata": {},
   "outputs": [],
   "source": [
    "# Начните писать код тут\n",
    "def retmin2(x, y):\n",
    "    if x <= y:\n",
    "        return x\n",
    "    else:\n",
    "        return y"
   ]
  },
  {
   "cell_type": "markdown",
   "id": "9342d85f",
   "metadata": {},
   "source": [
    "### Задание 2\n",
    "\n",
    "Допишите функцию, которая принимает 3 числа, сравнивает между собой и возвращает наименьшее."
   ]
  },
  {
   "cell_type": "code",
   "execution_count": 9,
   "id": "5371aa95",
   "metadata": {},
   "outputs": [],
   "source": [
    "# Начните писать код тут\n",
    "def retmin3(x, y, z):\n",
    "    if x <= y:\n",
    "        if x <= z:\n",
    "            return x\n",
    "        else:\n",
    "            return z\n",
    "    elif y <= z:\n",
    "        return y\n",
    "    else:\n",
    "        return z"
   ]
  },
  {
   "cell_type": "markdown",
   "id": "9ef85dfd",
   "metadata": {},
   "source": [
    "### Задание 2\n",
    "\n",
    "Допишите функцию, которая принимает 3 числа, сравнивает между собой и возвращает количество совпадающих чисел. Соответственно, программа может возвращать одно из трех чисел: 3 - если совпадают все, 2 - если совпадают 2 числа, 0 - если все числа различны."
   ]
  },
  {
   "cell_type": "code",
   "execution_count": 11,
   "id": "ec6a169c",
   "metadata": {},
   "outputs": [],
   "source": [
    "# Начните писать код тут\n",
    "def countequal(x, y, z):\n",
    "    if x == y == z:\n",
    "        return 3\n",
    "    elif y == z or x == z or x == y:\n",
    "        return 2\n",
    "    else:\n",
    "        return 0"
   ]
  }
 ],
 "metadata": {
  "kernelspec": {
   "display_name": "Python 3 (ipykernel)",
   "language": "python",
   "name": "python3"
  },
  "language_info": {
   "codemirror_mode": {
    "name": "ipython",
    "version": 3
   },
   "file_extension": ".py",
   "mimetype": "text/x-python",
   "name": "python",
   "nbconvert_exporter": "python",
   "pygments_lexer": "ipython3",
   "version": "3.9.7"
  }
 },
 "nbformat": 4,
 "nbformat_minor": 5
}
